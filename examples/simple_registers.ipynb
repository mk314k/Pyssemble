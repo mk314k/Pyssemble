{
 "cells": [
  {
   "cell_type": "code",
   "execution_count": 12,
   "metadata": {},
   "outputs": [],
   "source": [
    "#Loading assembly keywords and functions\n",
    "%run '../pyssemble/pyInstruction.py'\n",
    "#Alternative: from pyssemble.pyInstruction import *"
   ]
  },
  {
   "cell_type": "code",
   "execution_count": 13,
   "metadata": {},
   "outputs": [],
   "source": [
    "py_inst = pyInstruction() #only useful for debugging later on"
   ]
  },
  {
   "attachments": {},
   "cell_type": "markdown",
   "metadata": {},
   "source": [
    "## Simple Assembly commands li, add, sub"
   ]
  },
  {
   "cell_type": "code",
   "execution_count": 14,
   "metadata": {},
   "outputs": [
    {
     "data": {
      "text/plain": []
     },
     "execution_count": 14,
     "metadata": {},
     "output_type": "execute_result"
    }
   ],
   "source": [
    "li(a1, 5)\n",
    "li(a2, 6)\n",
    "add(a3, a1, a2)"
   ]
  },
  {
   "cell_type": "code",
   "execution_count": 15,
   "metadata": {},
   "outputs": [],
   "source": [
    "py_inst.execute()"
   ]
  },
  {
   "cell_type": "code",
   "execution_count": 19,
   "metadata": {},
   "outputs": [
    {
     "data": {
      "text/plain": [
       "11"
      ]
     },
     "execution_count": 19,
     "metadata": {},
     "output_type": "execute_result"
    }
   ],
   "source": [
    "py_inst.regs[a3]"
   ]
  },
  {
   "cell_type": "code",
   "execution_count": 72,
   "metadata": {},
   "outputs": [],
   "source": [
    "def lambda_wrap(func):\n",
    "    return func"
   ]
  },
  {
   "cell_type": "code",
   "execution_count": 75,
   "metadata": {},
   "outputs": [
    {
     "data": {
      "text/plain": [
       "5"
      ]
     },
     "execution_count": 75,
     "metadata": {},
     "output_type": "execute_result"
    }
   ],
   "source": [
    "lambda_wrap(lambda args: args[0]+args[1])((2,3))"
   ]
  },
  {
   "cell_type": "code",
   "execution_count": 63,
   "metadata": {},
   "outputs": [],
   "source": [
    "class counter:\n",
    "    def __init__(self, val=0):\n",
    "        self.val = val\n",
    "    def step(self):\n",
    "        self.val+=4"
   ]
  },
  {
   "cell_type": "code",
   "execution_count": 64,
   "metadata": {},
   "outputs": [],
   "source": [
    "class t1:\n",
    "    ram1 = [0]*32\n",
    "    inst ={}\n",
    "    pc =counter()\n",
    "    def execut(self):\n",
    "        for j in self.inst:\n",
    "            i=self.inst[j]\n",
    "            self.ram1[i[0]] = i[2]((self.ram1[i[1][0]], self.ram1[i[1][0]]))\n",
    "\n",
    "class t2(t1):\n",
    "    def __init__(self, *args):\n",
    "        if (len(args)!=3):\n",
    "            raise Exception\n",
    "        self.rd, self.rs1, self.rs2 = args\n",
    "        self.inst[self.pc] = self #(self.rd, (self.rs1, self.rs2), self.func)\n",
    "        self.pc.step()\n",
    "    def execute(self):\n",
    "        f = self.func\n",
    "        self.ram1[self.rd] = f(self.ram1[self.rs1], self.ram1[self.rs2])\n",
    "\n",
    "class t3(t2):\n",
    "    func = lambda _, arg1, arg2: arg1 + arg2\n"
   ]
  },
  {
   "cell_type": "code",
   "execution_count": 65,
   "metadata": {},
   "outputs": [],
   "source": [
    "t = t1()"
   ]
  },
  {
   "cell_type": "code",
   "execution_count": 66,
   "metadata": {},
   "outputs": [],
   "source": [
    "t.ram1[2]=4\n",
    "t.ram1[3]=3"
   ]
  },
  {
   "cell_type": "code",
   "execution_count": 67,
   "metadata": {},
   "outputs": [
    {
     "data": {
      "text/plain": [
       "<__main__.t3 at 0x1133c38b0>"
      ]
     },
     "execution_count": 67,
     "metadata": {},
     "output_type": "execute_result"
    }
   ],
   "source": [
    "t3(1,2,3)"
   ]
  },
  {
   "cell_type": "code",
   "execution_count": 99,
   "metadata": {},
   "outputs": [],
   "source": [
    "t.inst[0].execute()"
   ]
  },
  {
   "cell_type": "code",
   "execution_count": 26,
   "metadata": {},
   "outputs": [
    {
     "data": {
      "text/plain": [
       "[0,\n",
       " 0,\n",
       " 4,\n",
       " 3,\n",
       " 0,\n",
       " 0,\n",
       " 0,\n",
       " 0,\n",
       " 0,\n",
       " 0,\n",
       " 0,\n",
       " 0,\n",
       " 0,\n",
       " 0,\n",
       " 0,\n",
       " 0,\n",
       " 0,\n",
       " 0,\n",
       " 0,\n",
       " 0,\n",
       " 0,\n",
       " 0,\n",
       " 0,\n",
       " 0,\n",
       " 0,\n",
       " 0,\n",
       " 0,\n",
       " 0,\n",
       " 0,\n",
       " 0,\n",
       " 0,\n",
       " 0]"
      ]
     },
     "execution_count": 26,
     "metadata": {},
     "output_type": "execute_result"
    }
   ],
   "source": [
    "t.ram1"
   ]
  },
  {
   "cell_type": "code",
   "execution_count": 69,
   "metadata": {},
   "outputs": [
    {
     "data": {
      "text/plain": [
       "4"
      ]
     },
     "execution_count": 69,
     "metadata": {},
     "output_type": "execute_result"
    }
   ],
   "source": [
    "t.pc.val"
   ]
  },
  {
   "cell_type": "code",
   "execution_count": 30,
   "metadata": {},
   "outputs": [
    {
     "data": {
      "text/plain": [
       "{0: <__main__.t3 at 0x1133640a0>}"
      ]
     },
     "execution_count": 30,
     "metadata": {},
     "output_type": "execute_result"
    }
   ],
   "source": [
    "t.inst"
   ]
  },
  {
   "cell_type": "code",
   "execution_count": 48,
   "metadata": {},
   "outputs": [
    {
     "data": {
      "text/plain": [
       "4"
      ]
     },
     "execution_count": 48,
     "metadata": {},
     "output_type": "execute_result"
    }
   ],
   "source": [
    "t3(2,3,4).pc"
   ]
  },
  {
   "cell_type": "code",
   "execution_count": 110,
   "metadata": {},
   "outputs": [],
   "source": [
    "import random\n",
    "import copy"
   ]
  },
  {
   "cell_type": "code",
   "execution_count": 111,
   "metadata": {},
   "outputs": [],
   "source": [
    "user = [f\"user{i}\" for i in range(5)]\n",
    "company = [f\"company{i}\" for i in range(10)]"
   ]
  },
  {
   "cell_type": "code",
   "execution_count": 171,
   "metadata": {},
   "outputs": [],
   "source": [
    "platform_fund = 500"
   ]
  },
  {
   "cell_type": "code",
   "execution_count": 112,
   "metadata": {},
   "outputs": [],
   "source": [
    "company_fund = {c: random.randint(5000, 10000) for c in company}\n",
    "user_fund = {u: random.randint(1000, 2000) for u in user}"
   ]
  },
  {
   "cell_type": "code",
   "execution_count": 113,
   "metadata": {},
   "outputs": [],
   "source": [
    "company_fund_init = copy.deepcopy(company_fund)\n",
    "user_fund_init = copy.deepcopy(user_fund)"
   ]
  },
  {
   "cell_type": "code",
   "execution_count": 114,
   "metadata": {},
   "outputs": [],
   "source": [
    "esg_score = {com:random.randint(200, 1000) for com in company}\n",
    "company_esg_budget_plan = {com:random.randint(10,15) for com in company}"
   ]
  },
  {
   "cell_type": "code",
   "execution_count": 129,
   "metadata": {},
   "outputs": [],
   "source": [
    "\"\"\"Properties\n",
    "Continuous monotonic and converge to 1000 at infinity\n",
    "\"\"\"\n",
    "target_func = lambda x: 0.1*1000*x/(1+0.1*x)\n",
    "target_inv = lambda x: x/(0.1*1000-0.1*x)"
   ]
  },
  {
   "cell_type": "code",
   "execution_count": 132,
   "metadata": {},
   "outputs": [],
   "source": [
    "esg_score_target = {\n",
    "    com:round(target_func(\n",
    "        target_inv(esg_score[com])+\n",
    "        0.05*(company_esg_budget_plan[com]/100)*company_fund_init[com]\n",
    "        )) for com in company\n",
    "    }"
   ]
  },
  {
   "cell_type": "code",
   "execution_count": 133,
   "metadata": {},
   "outputs": [
    {
     "data": {
      "text/plain": [
       "{'company0': (7792, 938, 14, 954),\n",
       " 'company1': (8507, 765, 13, 898),\n",
       " 'company2': (7736, 438, 14, 861),\n",
       " 'company3': (7015, 217, 10, 791),\n",
       " 'company4': (7545, 658, 12, 866),\n",
       " 'company5': (9806, 722, 15, 909),\n",
       " 'company6': (5885, 512, 15, 845),\n",
       " 'company7': (7007, 359, 10, 803),\n",
       " 'company8': (9796, 342, 12, 865),\n",
       " 'company9': (8780, 497, 13, 870)}"
      ]
     },
     "execution_count": 133,
     "metadata": {},
     "output_type": "execute_result"
    }
   ],
   "source": [
    "{com:(company_fund_init[com], esg_score[com], company_esg_budget_plan[com], esg_score_target[com]) for com in company}"
   ]
  },
  {
   "cell_type": "code",
   "execution_count": 134,
   "metadata": {},
   "outputs": [],
   "source": [
    "user_invest_percent = {u:random.randint(50,80) for u in user}"
   ]
  },
  {
   "cell_type": "code",
   "execution_count": 139,
   "metadata": {},
   "outputs": [],
   "source": [
    "investment = {}\n",
    "for u in user:\n",
    "    for c in company:\n",
    "        investment[(u,c)] = (user_invest_percent[u]/1000)*user_fund[u]*(esg_score_target[c]/1000)"
   ]
  },
  {
   "cell_type": "code",
   "execution_count": 140,
   "metadata": {},
   "outputs": [],
   "source": [
    "investment_by_user = {u: sum([investment[(u,c)] for c in company]) for u in user}"
   ]
  },
  {
   "cell_type": "code",
   "execution_count": 141,
   "metadata": {},
   "outputs": [],
   "source": [
    "investment_by_company = {c: sum([investment[(u,c)] for u in user]) for c in company}"
   ]
  },
  {
   "cell_type": "code",
   "execution_count": 142,
   "metadata": {},
   "outputs": [
    {
     "data": {
      "text/plain": [
       "3718.267444"
      ]
     },
     "execution_count": 142,
     "metadata": {},
     "output_type": "execute_result"
    }
   ],
   "source": [
    "total_investment = sum(investment.values())\n",
    "total_investment"
   ]
  },
  {
   "cell_type": "code",
   "execution_count": 146,
   "metadata": {},
   "outputs": [],
   "source": [
    "#investment transferred\n",
    "for u in user:\n",
    "    user_fund[u] -= investment_by_user[u]\n",
    "for c in company:\n",
    "    company_fund[c] += investment_by_company[c]"
   ]
  },
  {
   "cell_type": "code",
   "execution_count": 152,
   "metadata": {},
   "outputs": [],
   "source": [
    "#after a quarter company worked, gained profit/loss, new esg score \n",
    "profit_percent = {c: random.randint(-5, 10) for c in company}\n",
    "esg_score_new = {\n",
    "    c: round(\n",
    "        target_func(\n",
    "            target_inv(esg_score[c]+random.randint(-50,50))+\n",
    "            0.04*((company_esg_budget_plan[c]+random.randint(-2,2))/100)*company_fund[c]\n",
    "        )\n",
    "    ) \n",
    "    for c in company}"
   ]
  },
  {
   "cell_type": "code",
   "execution_count": 158,
   "metadata": {},
   "outputs": [
    {
     "data": {
      "text/plain": [
       "{'company0': (7792, 938, 14, 954, 950),\n",
       " 'company1': (8507, 765, 13, 898, 902),\n",
       " 'company2': (7736, 438, 14, 861, 838),\n",
       " 'company3': (7015, 217, 10, 791, 750),\n",
       " 'company4': (7545, 658, 12, 866, 857),\n",
       " 'company5': (9806, 722, 15, 909, 898),\n",
       " 'company6': (5885, 512, 15, 845, 840),\n",
       " 'company7': (7007, 359, 10, 803, 791),\n",
       " 'company8': (9796, 342, 12, 865, 845),\n",
       " 'company9': (8780, 497, 13, 870, 867)}"
      ]
     },
     "execution_count": 158,
     "metadata": {},
     "output_type": "execute_result"
    }
   ],
   "source": [
    "{com:(company_fund_init[com], esg_score[com], company_esg_budget_plan[com], esg_score_target[com], esg_score_new[com]) for com in company}"
   ]
  },
  {
   "cell_type": "code",
   "execution_count": 156,
   "metadata": {},
   "outputs": [],
   "source": [
    "#update company fund for profit\n",
    "for c in company:\n",
    "    company_fund[c] += profit_percent[c]*company_fund[c]/100"
   ]
  },
  {
   "cell_type": "code",
   "execution_count": 176,
   "metadata": {},
   "outputs": [],
   "source": [
    "#company return back the investments plus they get reward\n",
    "#for exceeding target, punishment for not reaching target\n",
    "#note: total rewards <= total punishment\n",
    "company_score_diff = {c:esg_score_new[c] - esg_score_target[c] for c in company}\n",
    "#Allow upto 5 negative points \n",
    "company_score_diff = {c: company_score_diff[c] if company_score_diff[c]>=0 else min(0, 5+company_score_diff[c]) for c in company}\n",
    "company_reward = {c: max(company_score_diff[c], 0) for c in company}\n",
    "company_punish = {c: max(-company_score_diff[c], 0) for c in company}\n",
    "total_reward, total_punish = sum(company_reward.values()), sum(company_punish.values())\n",
    "reward_punish_ratio = 0.7\n",
    "company_reward = {c: reward_punish_ratio*company_reward[c]/total_reward  for c in company} #total rewards = 0.7* total punishment\n",
    "company_punish = {c: company_punish[c]/total_punish for c in company}\n",
    "esg_company_total_rewards = 0.1 * total_investment\n",
    "for c in company:\n",
    "    company_fund[c] -= (investment_by_company[c] + company_punish[c]*esg_company_total_rewards - company_reward[c]*esg_company_total_rewards)\n",
    "platform_fund += (total_investment + (1 - reward_punish_ratio)* esg_company_total_rewards)"
   ]
  },
  {
   "cell_type": "code",
   "execution_count": 180,
   "metadata": {},
   "outputs": [
    {
     "data": {
      "text/plain": [
       "{'user0': (1391, 656.020638),\n",
       " 'user1': (1348, 717.4756960000001),\n",
       " 'user2': (1960, 907.3937599999999),\n",
       " 'user3': (1416, 692.341872),\n",
       " 'user4': (1305, 728.5005900000001)}"
      ]
     },
     "execution_count": 180,
     "metadata": {},
     "output_type": "execute_result"
    }
   ],
   "source": [
    "{com:(user_fund_init[com], user_fund[com]) for com in user}"
   ]
  },
  {
   "cell_type": "code",
   "execution_count": 189,
   "metadata": {},
   "outputs": [
    {
     "data": {
      "text/plain": [
       "{'company0': 12,\n",
       " 'company1': 137,\n",
       " 'company5': 176,\n",
       " 'company4': 199,\n",
       " 'company6': 328,\n",
       " 'company9': 370,\n",
       " 'company2': 400,\n",
       " 'company7': 432,\n",
       " 'company8': 503,\n",
       " 'company3': 533}"
      ]
     },
     "execution_count": 189,
     "metadata": {},
     "output_type": "execute_result"
    }
   ],
   "source": [
    "esg_score_diff = {c:esg_score_new[c] - esg_score[c] for c in company}\n",
    "dict(sorted(esg_score_diff.items(),key=lambda x: x[1]))"
   ]
  },
  {
   "cell_type": "code",
   "execution_count": 201,
   "metadata": {},
   "outputs": [],
   "source": [
    "esg_score_diff = {c: target_inv(esg_score_new[c]) - target_inv(esg_score[c]) for c in company}\n",
    "max_diff = max(esg_score_diff.values())\n",
    "esg_score_dist = {c: 0.6*esg_score_diff[c]/max_diff + 0.4*esg_score_new[c]/1000 for c in company}\n",
    "total_score = sum(esg_score_dist.values())\n",
    "esg_score_dist = {c: 0.98*esg_score_dist[c]/total_score for c in company}"
   ]
  },
  {
   "cell_type": "code",
   "execution_count": 202,
   "metadata": {},
   "outputs": [],
   "source": [
    "total_user_dist = total_investment + reward_punish_ratio*(1 - reward_punish_ratio)* esg_company_total_rewards"
   ]
  },
  {
   "cell_type": "code",
   "execution_count": 208,
   "metadata": {},
   "outputs": [],
   "source": [
    "investment_ratio = {\n",
    "    (u,c): investment[(u,c)]/investment_by_company[c] for c in company for u in user\n",
    "}\n",
    "user_dist = {\n",
    "    u: sum([\n",
    "        investment_ratio[(u,c)]*esg_score_dist[c]*total_user_dist for c in company\n",
    "    ]) for u in user\n",
    "}"
   ]
  },
  {
   "cell_type": "code",
   "execution_count": 214,
   "metadata": {},
   "outputs": [],
   "source": [
    "for u in user:\n",
    "    user_fund[u] += user_dist[u]\n",
    "    platform_fund -= user_dist[u]"
   ]
  },
  {
   "cell_type": "code",
   "execution_count": 215,
   "metadata": {},
   "outputs": [
    {
     "data": {
      "text/plain": [
       "609.391428202481"
      ]
     },
     "execution_count": 215,
     "metadata": {},
     "output_type": "execute_result"
    }
   ],
   "source": [
    "platform_fund"
   ]
  },
  {
   "cell_type": "code",
   "execution_count": 62,
   "metadata": {},
   "outputs": [],
   "source": [
    "def rev(head:Llist):\n",
    "    curr = head \n",
    "    prev = None\n",
    "    while curr != None:\n",
    "        temp = curr.next\n",
    "        curr.next = prev\n",
    "        prev = curr\n",
    "        curr = temp\n",
    "    return prev"
   ]
  },
  {
   "cell_type": "code",
   "execution_count": 23,
   "metadata": {},
   "outputs": [],
   "source": [
    "class Llist:\n",
    "    def __init__(self, value, next=None):\n",
    "        self.value = value\n",
    "        self.next = next\n",
    "    def __repr__(self):\n",
    "        return f\"[{self.value}, {self.next}]\"\n",
    "    def __str__(self):\n",
    "        return self.__repr__()"
   ]
  },
  {
   "cell_type": "code",
   "execution_count": 63,
   "metadata": {},
   "outputs": [],
   "source": [
    "test1 = Llist('a', Llist('b', Llist('c', Llist('d'))))\n",
    "imm = test1"
   ]
  },
  {
   "cell_type": "code",
   "execution_count": 64,
   "metadata": {},
   "outputs": [
    {
     "data": {
      "text/plain": [
       "[a, [b, [c, [d, None]]]]"
      ]
     },
     "execution_count": 64,
     "metadata": {},
     "output_type": "execute_result"
    }
   ],
   "source": [
    "test1"
   ]
  },
  {
   "cell_type": "code",
   "execution_count": 67,
   "metadata": {},
   "outputs": [
    {
     "data": {
      "text/plain": [
       "[a, None]"
      ]
     },
     "execution_count": 67,
     "metadata": {},
     "output_type": "execute_result"
    }
   ],
   "source": [
    "imm"
   ]
  },
  {
   "cell_type": "code",
   "execution_count": 66,
   "metadata": {},
   "outputs": [
    {
     "data": {
      "text/plain": [
       "[d, [c, [b, [a, None]]]]"
      ]
     },
     "execution_count": 66,
     "metadata": {},
     "output_type": "execute_result"
    }
   ],
   "source": [
    "rev(test1)"
   ]
  },
  {
   "cell_type": "code",
   "execution_count": 82,
   "metadata": {},
   "outputs": [],
   "source": [
    "class Btree:\n",
    "    def __init__(self, value, left=None, right = None):\n",
    "        assert(left == None or isinstance(left, Btree))\n",
    "        assert(right == None or isinstance(right, Btree))\n",
    "        self.value = value\n",
    "        self.left = left\n",
    "        self.right = right\n",
    "\n",
    "    def __repr__(self):\n",
    "        return f'[{self.left}-{self.value}-{self.right}]'"
   ]
  },
  {
   "cell_type": "code",
   "execution_count": 83,
   "metadata": {},
   "outputs": [],
   "source": [
    "test2 = Btree(\n",
    "    2, \n",
    "    Btree(\n",
    "        3, \n",
    "        Btree(\n",
    "            4, \n",
    "            Btree(5)\n",
    "        ),\n",
    "        Btree(6)\n",
    "    ),\n",
    "    Btree(\n",
    "        7,\n",
    "        Btree(8),\n",
    "        Btree(9)\n",
    "    )\n",
    ")"
   ]
  },
  {
   "cell_type": "code",
   "execution_count": 84,
   "metadata": {},
   "outputs": [
    {
     "name": "stdout",
     "output_type": "stream",
     "text": [
      "[[[[None-5-None]-4-None]-3-[None-6-None]]-2-[[None-8-None]-7-[None-9-None]]]\n"
     ]
    }
   ],
   "source": [
    "print(test2)"
   ]
  },
  {
   "cell_type": "code",
   "execution_count": 86,
   "metadata": {},
   "outputs": [],
   "source": [
    "def invTree(tree:Btree):\n",
    "    if (tree == None):\n",
    "        return\n",
    "    left = invTree(tree.left)\n",
    "    right = invTree(tree.right)\n",
    "    tree.left = right\n",
    "    tree.right = left\n",
    "    return tree"
   ]
  },
  {
   "cell_type": "code",
   "execution_count": 87,
   "metadata": {},
   "outputs": [
    {
     "data": {
      "text/plain": [
       "[[[None-9-None]-7-[None-8-None]]-2-[[None-6-None]-3-[None-4-[None-5-None]]]]"
      ]
     },
     "execution_count": 87,
     "metadata": {},
     "output_type": "execute_result"
    }
   ],
   "source": [
    "invTree(test2)"
   ]
  },
  {
   "cell_type": "code",
   "execution_count": 88,
   "metadata": {},
   "outputs": [],
   "source": [
    "import networkx as nx\n",
    "import matplotlib.pyplot as plt\n"
   ]
  },
  {
   "cell_type": "code",
   "execution_count": 89,
   "metadata": {},
   "outputs": [],
   "source": [
    "# Create an empty graph\n",
    "G = nx.Graph()\n",
    "\n",
    "# Add nodes\n",
    "G.add_nodes_from([1, 2, 3, 4])\n",
    "\n",
    "# Add edges\n",
    "G.add_edges_from([(1, 2), (2, 3), (3, 4), (4, 1)])\n"
   ]
  },
  {
   "cell_type": "code",
   "execution_count": 90,
   "metadata": {},
   "outputs": [
    {
     "data": {
      "image/png": "[encoded data removed]",
      "text/plain": [
       "<Figure size 432x288 with 1 Axes>"
      ]
     },
     "metadata": {},
     "output_type": "display_data"
    }
   ],
   "source": [
    "nx.draw(G, with_labels=True, node_color='lightblue', node_size=800, edge_color='gray')\n"
   ]
  },
  {
   "cell_type": "code",
   "execution_count": 91,
   "metadata": {},
   "outputs": [],
   "source": [
    "plt.show()"
   ]
  },
  {
   "cell_type": "code",
   "execution_count": null,
   "metadata": {},
   "outputs": [],
   "source": []
  }
 ],
 "metadata": {
  "kernelspec": {
   "display_name": "Python 3",
   "language": "python",
   "name": "python3"
  },
  "language_info": {
   "codemirror_mode": {
    "name": "ipython",
    "version": 3
   },
   "file_extension": ".py",
   "mimetype": "text/x-python",
   "name": "python",
   "nbconvert_exporter": "python",
   "pygments_lexer": "ipython3",
   "version": "3.10.5"
  },
  "orig_nbformat": 4
 },
 "nbformat": 4,
 "nbformat_minor": 2
}
